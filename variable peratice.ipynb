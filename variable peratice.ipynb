{
 "cells": [
  {
   "cell_type": "markdown",
   "id": "ca6e80c6",
   "metadata": {},
   "source": [
    "variable is a name (box,container) that store value in programing \n",
    "name=ibrar\n",
    "age =34\n",
    "VARIABLE NAMING RULES\n",
    "#Start whith a letter or underscore _ e.g name,_score.\n",
    "#can contain letters,number,&UNDERSCORE_ e.g user_name,age2,total_amount\n",
    "#Case sensitive Name&name are different variable\n",
    "#choose meaningfulname,price,student_name \n",
    "#NOT ALLOWED \n",
    "CAN NOT START WITH NUMBER 2NAME\n",
    "CAN NOT USE SPACE ,MY-NAME\n",
    "CAN NOT USE SPECIAL CHARACTERS @,$,!\n"
   ]
  },
  {
   "cell_type": "code",
   "execution_count": 7,
   "id": "fb633000",
   "metadata": {},
   "outputs": [
    {
     "name": "stdout",
     "output_type": "stream",
     "text": [
      "ibrar awan\n",
      "35\n",
      "85\n"
     ]
    }
   ],
   "source": [
    "name = \"ibrar awan\"\n",
    "age = 35\n",
    "student_marks = 85\n",
    "print(name)\n",
    "print(age)\n",
    "print(student_marks)"
   ]
  },
  {
   "cell_type": "markdown",
   "id": "542468dc",
   "metadata": {},
   "source": [
    "invalid variable \n",
    "2name=ali# cannot start with number \n",
    "my-name=ali#dashes not allowed\n",
    "user namer =ali# spaces not allowed \n"
   ]
  },
  {
   "cell_type": "code",
   "execution_count": null,
   "id": "a27d15c7",
   "metadata": {},
   "outputs": [],
   "source": [
    "2name = \"ali\"\n",
    "my-name = \"ali\"\n",
    "uuser namer = \"ali\"#all types are invalid  "
   ]
  },
  {
   "cell_type": "markdown",
   "id": "f3c32864",
   "metadata": {},
   "source": [
    "descriptive names\n",
    "snake_case"
   ]
  },
  {
   "cell_type": "code",
   "execution_count": 8,
   "id": "4d7d3d9f",
   "metadata": {},
   "outputs": [
    {
     "name": "stdout",
     "output_type": "stream",
     "text": [
      "musa ibrar\n",
      "10\n",
      "92\n"
     ]
    }
   ],
   "source": [
    "student_name = \"musa ibrar\"\n",
    "student_age = 10\n",
    "total_marks = 92\n",
    "print(student_name)\n",
    "print(student_age)\n",
    "print(total_marks)"
   ]
  }
 ],
 "metadata": {
  "kernelspec": {
   "display_name": "Python 3",
   "language": "python",
   "name": "python3"
  },
  "language_info": {
   "codemirror_mode": {
    "name": "ipython",
    "version": 3
   },
   "file_extension": ".py",
   "mimetype": "text/x-python",
   "name": "python",
   "nbconvert_exporter": "python",
   "pygments_lexer": "ipython3",
   "version": "3.12.9"
  }
 },
 "nbformat": 4,
 "nbformat_minor": 5
}
